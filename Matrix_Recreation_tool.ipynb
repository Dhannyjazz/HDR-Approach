{
  "nbformat": 4,
  "nbformat_minor": 0,
  "metadata": {
    "colab": {
      "provenance": [],
      "authorship_tag": "ABX9TyNwgt7O5vniutmq+86FMjP/",
      "include_colab_link": true
    },
    "kernelspec": {
      "name": "python3",
      "display_name": "Python 3"
    },
    "language_info": {
      "name": "python"
    }
  },
  "cells": [
    {
      "cell_type": "markdown",
      "metadata": {
        "id": "view-in-github",
        "colab_type": "text"
      },
      "source": [
        "<a href=\"https://colab.research.google.com/github/Dhannyjazz/HDR-Approach/blob/main/Matrix_Recreation_tool.ipynb\" target=\"_parent\"><img src=\"https://colab.research.google.com/assets/colab-badge.svg\" alt=\"Open In Colab\"/></a>"
      ]
    },
    {
      "cell_type": "code",
      "execution_count": null,
      "metadata": {
        "colab": {
          "base_uri": "https://localhost:8080/",
          "height": 147
        },
        "id": "bcZWk50d83W9",
        "outputId": "8520b834-4151-40a9-9958-00f6162bae96"
      },
      "outputs": [
        {
          "output_type": "stream",
          "name": "stderr",
          "text": [
            "usage: ipykernel_launcher.py [-h] input_file a b c d e\n",
            "ipykernel_launcher.py: error: the following arguments are required: a, b, c, d, e\n"
          ]
        },
        {
          "output_type": "error",
          "ename": "SystemExit",
          "evalue": "ignored",
          "traceback": [
            "An exception has occurred, use %tb to see the full traceback.\n",
            "\u001b[0;31mSystemExit\u001b[0m\u001b[0;31m:\u001b[0m 2\n"
          ]
        }
      ],
      "source": [
        "import argparse\n",
        "import numpy as np\n",
        "import pandas as pd\n",
        "\n",
        "#create an object of the argparse\n",
        "parser = argparse.ArgumentParser()\n",
        "\n",
        "\n",
        "\n",
        "\n",
        "# add desired argument \n",
        "parser.add_argument(\"input_file\", help=\"Input file path\")\n",
        "parser.add_argument(\"a\", help=\"First Coefficient\",type=float)\n",
        "parser.add_argument(\"b\", help=\"Second Coefficient\",type=float)\n",
        "parser.add_argument(\"c\", help=\"Third Coefficient\", type=float)\n",
        "parser.add_argument(\"d\", help=\"Fourth Coefficient\",type=float)\n",
        "parser.add_argument(\"e\", help=\"Fifth Coefficient\", type=float)\n",
        "\n",
        "\n",
        "\n",
        "args = parser.parse_args()\n",
        "\n",
        "def main(input_file):\n",
        "    try:\n",
        "\n",
        "        # Read CSV\n",
        "        df_input = pd.read_csv(input_file, sep=',', header=None)\n",
        "        # convert pandas df to numpy object \n",
        "        matdf = df_input.to_numpy()\n",
        "        X=matdf\n",
        "        # Create an empty matrix of the same shape as 'X'\n",
        "        Y=np.empty(X.shape)\n",
        "\t# Iterate through the Y matrix to populate each co-ordinate using using  specified function \n",
        "        for i in range(len(X)):\n",
        "            for j in range(len(X[i])):\n",
        "                #Y[i,j] = 5*X[i,j]*X[i,j] + 3*i*j*X[i,j] - 4*i + 10*j - 20\n",
        "                Y[i,j] = args.a*X[i,j]*X[i,j] + args.b*i*j*X[i,j] - args.c*i + args.d*j - args.e\n",
        "\n",
        "\t# Save Y s csv with row separated by '\\n' and  the value of each column with the row separated by  comma\n",
        "        np.savetxt(\"Output_test_datas.csv\", Y, delimiter=\",\", newline=\"\\n\")\n",
        "    except FileNotFoundError:\n",
        "        print(\"File not found, Please save the input file in your current directory\")\n",
        "\n",
        "\n",
        "\n",
        "if __name__==\"__main__\":\n",
        "    try:\n",
        "        main(args.input_file)\n",
        "    except ValueError:\n",
        "        print(\"Please add the required flags, enter 'python tool.py --help' to get help.\")\n",
        "\n"
      ]
    },
    {
      "cell_type": "code",
      "source": [
        "'1'+'2'"
      ],
      "metadata": {
        "colab": {
          "base_uri": "https://localhost:8080/",
          "height": 37
        },
        "id": "f2Mo2CZn9_sP",
        "outputId": "8694b653-ed0c-445e-9bf3-10184bb3fa41"
      },
      "execution_count": null,
      "outputs": [
        {
          "output_type": "execute_result",
          "data": {
            "text/plain": [
              "'12'"
            ],
            "application/vnd.google.colaboratory.intrinsic+json": {
              "type": "string"
            }
          },
          "metadata": {},
          "execution_count": 4
        }
      ]
    },
    {
      "cell_type": "code",
      "source": [
        "age = 13\n",
        "if(age>18):\n",
        "  print('Enter')\n",
        "else:\n",
        "  print('Leave')\n",
        "print('The Concert')"
      ],
      "metadata": {
        "colab": {
          "base_uri": "https://localhost:8080/"
        },
        "id": "pFX8x6Zw-tei",
        "outputId": "6c09db9a-c338-4803-910e-418fbd67c9f9"
      },
      "execution_count": null,
      "outputs": [
        {
          "output_type": "stream",
          "name": "stdout",
          "text": [
            "Leave\n",
            "The Concert\n"
          ]
        }
      ]
    }
  ]
}